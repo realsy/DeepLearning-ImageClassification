{
 "cells": [
  {
   "cell_type": "markdown",
   "metadata": {
    "collapsed": true,
    "deletable": true,
    "editable": true
   },
   "source": [
    "# Image Classification\n",
    "In this project, you'll classify images from the [CIFAR-10 dataset](https://www.cs.toronto.edu/~kriz/cifar.html).  The dataset consists of airplanes, dogs, cats, and other objects. You'll preprocess the images, then train a convolutional neural network on all the samples. The images need to be normalized and the labels need to be one-hot encoded.  You'll get to apply what you learned and build a convolutional, max pooling, dropout, and fully connected layers.  At the end, you'll get to see your neural network's predictions on the sample images.\n",
    "## Get the Data\n",
    "Run the following cell to download the [CIFAR-10 dataset for python](https://www.cs.toronto.edu/~kriz/cifar-10-python.tar.gz)."
   ]
  },
  {
   "cell_type": "code",
   "execution_count": 1,
   "metadata": {
    "collapsed": false,
    "deletable": true,
    "editable": true
   },
   "outputs": [
    {
     "name": "stderr",
     "output_type": "stream",
     "text": [
      "CIFAR-10 Dataset: 171MB [00:48, 3.49MB/s]                              \n"
     ]
    },
    {
     "name": "stdout",
     "output_type": "stream",
     "text": [
      "All files found!\n"
     ]
    }
   ],
   "source": [
    "\"\"\"\n",
    "DON'T MODIFY ANYTHING IN THIS CELL THAT IS BELOW THIS LINE\n",
    "\"\"\"\n",
    "from urllib.request import urlretrieve\n",
    "from os.path import isfile, isdir\n",
    "from tqdm import tqdm\n",
    "import problem_unittests as tests\n",
    "import tarfile\n",
    "\n",
    "cifar10_dataset_folder_path = 'cifar-10-batches-py'\n",
    "\n",
    "class DLProgress(tqdm):\n",
    "    last_block = 0\n",
    "\n",
    "    def hook(self, block_num=1, block_size=1, total_size=None):\n",
    "        self.total = total_size\n",
    "        self.update((block_num - self.last_block) * block_size)\n",
    "        self.last_block = block_num\n",
    "\n",
    "if not isfile('cifar-10-python.tar.gz'):\n",
    "    with DLProgress(unit='B', unit_scale=True, miniters=1, desc='CIFAR-10 Dataset') as pbar:\n",
    "        urlretrieve(\n",
    "            'https://www.cs.toronto.edu/~kriz/cifar-10-python.tar.gz',\n",
    "            'cifar-10-python.tar.gz',\n",
    "            pbar.hook)\n",
    "\n",
    "if not isdir(cifar10_dataset_folder_path):\n",
    "    with tarfile.open('cifar-10-python.tar.gz') as tar:\n",
    "        tar.extractall()\n",
    "        tar.close()\n",
    "\n",
    "\n",
    "tests.test_folder_path(cifar10_dataset_folder_path)"
   ]
  },
  {
   "cell_type": "markdown",
   "metadata": {
    "deletable": true,
    "editable": true
   },
   "source": [
    "## Explore the Data\n",
    "The dataset is broken into batches to prevent your machine from running out of memory.  The CIFAR-10 dataset consists of 5 batches, named `data_batch_1`, `data_batch_2`, etc.. Each batch contains the labels and images that are one of the following:\n",
    "* airplane\n",
    "* automobile\n",
    "* bird\n",
    "* cat\n",
    "* deer\n",
    "* dog\n",
    "* frog\n",
    "* horse\n",
    "* ship\n",
    "* truck\n",
    "\n",
    "Understanding a dataset is part of making predictions on the data.  Play around with the code cell below by changing the `batch_id` and `sample_id`. The `batch_id` is the id for a batch (1-5). The `sample_id` is the id for a image and label pair in the batch.\n",
    "\n",
    "Ask yourself \"What are all possible labels?\", \"What is the range of values for the image data?\", \"Are the labels in order or random?\".  Answers to questions like these will help you preprocess the data and end up with better predictions."
   ]
  },
  {
   "cell_type": "code",
   "execution_count": 3,
   "metadata": {
    "collapsed": false,
    "deletable": true,
    "editable": true
   },
   "outputs": [
    {
     "name": "stdout",
     "output_type": "stream",
     "text": [
      "\n",
      "Stats of batch 1:\n",
      "Samples: 10000\n",
      "Label Counts: {0: 1005, 1: 974, 2: 1032, 3: 1016, 4: 999, 5: 937, 6: 1030, 7: 1001, 8: 1025, 9: 981}\n",
      "First 20 Labels: [6, 9, 9, 4, 1, 1, 2, 7, 8, 3, 4, 7, 7, 2, 9, 9, 9, 3, 2, 6]\n",
      "\n",
      "Example of Image 6:\n",
      "Image - Min Value: 7 Max Value: 249\n",
      "Image - Shape: (32, 32, 3)\n",
      "Label - Label Id: 2 Name: bird\n"
     ]
    },
    {
     "data": {
      "image/png": "[encoded data removed]",
      "text/plain": [
       "<matplotlib.figure.Figure at 0x7f24360b19b0>"
      ]
     },
     "metadata": {
      "image/png": {
       "height": 250,
       "width": 253
      }
     },
     "output_type": "display_data"
    }
   ],
   "source": [
    "%matplotlib inline\n",
    "%config InlineBackend.figure_format = 'retina'\n",
    "\n",
    "import helper\n",
    "import numpy as np\n",
    "\n",
    "# Explore the dataset\n",
    "batch_id = 1\n",
    "sample_id = 6\n",
    "helper.display_stats(cifar10_dataset_folder_path, batch_id, sample_id)"
   ]
  },
  {
   "cell_type": "markdown",
   "metadata": {
    "deletable": true,
    "editable": true
   },
   "source": [
    "## Implement Preprocess Functions\n",
    "### Normalize\n",
    "In the cell below, implement the `normalize` function to take in image data, `x`, and return it as a normalized Numpy array. The values should be in the range of 0 to 1, inclusive.  The return object should be the same shape as `x`."
   ]
  },
  {
   "cell_type": "code",
   "execution_count": 9,
   "metadata": {
    "collapsed": false,
    "deletable": true,
    "editable": true
   },
   "outputs": [
    {
     "name": "stdout",
     "output_type": "stream",
     "text": [
      "Tests Passed\n"
     ]
    }
   ],
   "source": [
    "def normalize(x):\n",
    "    \"\"\"\n",
    "    Normalize a list of sample image data in the range of 0 to 1\n",
    "    : x: List of image data.  The image shape is (32, 32, 3)\n",
    "    : return: Numpy array of normalize data\n",
    "    \"\"\"\n",
    "    # TODO: Implement Function\n",
    "    return x/255\n",
    "\n",
    "\n",
    "\"\"\"\n",
    "DON'T MODIFY ANYTHING IN THIS CELL THAT IS BELOW THIS LINE\n",
    "\"\"\"\n",
    "tests.test_normalize(normalize)"
   ]
  },
  {
   "cell_type": "markdown",
   "metadata": {
    "deletable": true,
    "editable": true
   },
   "source": [
    "### One-hot encode\n",
    "Just like the previous code cell, you'll be implementing a function for preprocessing.  This time, you'll implement the `one_hot_encode` function. The input, `x`, are a list of labels.  Implement the function to return the list of labels as One-Hot encoded Numpy array.  The possible values for labels are 0 to 9. The one-hot encoding function should return the same encoding for each value between each call to `one_hot_encode`.  Make sure to save the map of encodings outside the function.\n",
    "\n",
    "Hint: Don't reinvent the wheel."
   ]
  },
  {
   "cell_type": "code",
   "execution_count": 13,
   "metadata": {
    "collapsed": false,
    "deletable": true,
    "editable": true
   },
   "outputs": [
    {
     "name": "stdout",
     "output_type": "stream",
     "text": [
      "Tests Passed\n"
     ]
    }
   ],
   "source": [
    "from sklearn.preprocessing import OneHotEncoder\n",
    "from sklearn import preprocessing\n",
    "\n",
    "mapped = preprocessing.LabelBinarizer().fit_transform([i for i in range(10)])\n",
    "\n",
    "def one_hot_encode(x):\n",
    "    \"\"\"\n",
    "    One hot encode a list of sample labels. Return a one-hot encoded vector for each label.\n",
    "    : x: List of sample Labels\n",
    "    : return: Numpy array of one-hot encoded labels\n",
    "    \"\"\"\n",
    "    # TODO: Implement Function\n",
    "    return np.array([mapped[i] for i in x])\n",
    "\n",
    "\n",
    "\"\"\"\n",
    "DON'T MODIFY ANYTHING IN THIS CELL THAT IS BELOW THIS LINE\n",
    "\"\"\"\n",
    "tests.test_one_hot_encode(one_hot_encode)"
   ]
  },
  {
   "cell_type": "markdown",
   "metadata": {
    "deletable": true,
    "editable": true
   },
   "source": [
    "### Randomize Data\n",
    "As you saw from exploring the data above, the order of the samples are randomized.  It doesn't hurt to randomize it again, but you don't need to for this dataset."
   ]
  },
  {
   "cell_type": "markdown",
   "metadata": {
    "deletable": true,
    "editable": true
   },
   "source": [
    "## Preprocess all the data and save it\n",
    "Running the code cell below will preprocess all the CIFAR-10 data and save it to file. The code below also uses 10% of the training data for validation."
   ]
  },
  {
   "cell_type": "code",
   "execution_count": 16,
   "metadata": {
    "collapsed": false,
    "deletable": true,
    "editable": true
   },
   "outputs": [],
   "source": [
    "\"\"\"\n",
    "DON'T MODIFY ANYTHING IN THIS CELL\n",
    "\"\"\"\n",
    "# Preprocess Training, Validation, and Testing Data\n",
    "helper.preprocess_and_save_data(cifar10_dataset_folder_path, normalize, one_hot_encode)"
   ]
  },
  {
   "cell_type": "markdown",
   "metadata": {
    "deletable": true,
    "editable": true
   },
   "source": [
    "# Check Point\n",
    "This is your first checkpoint.  If you ever decide to come back to this notebook or have to restart the notebook, you can start from here.  The preprocessed data has been saved to disk."
   ]
  },
  {
   "cell_type": "code",
   "execution_count": 51,
   "metadata": {
    "collapsed": true,
    "deletable": true,
    "editable": true
   },
   "outputs": [],
   "source": [
    "\"\"\"\n",
    "DON'T MODIFY ANYTHING IN THIS CELL\n",
    "\"\"\"\n",
    "import pickle\n",
    "import problem_unittests as tests\n",
    "import helper\n",
    "\n",
    "# Load the Preprocessed Validation data\n",
    "valid_features, valid_labels = pickle.load(open('preprocess_validation.p', mode='rb'))"
   ]
  },
  {
   "cell_type": "markdown",
   "metadata": {
    "deletable": true,
    "editable": true
   },
   "source": [
    "## Build the network\n",
    "For the neural network, you'll build each layer into a function.  Most of the code you've seen has been outside of functions. To test your code more thoroughly, we require that you put each layer in a function.  This allows us to give you better feedback and test for simple mistakes using our unittests before you submit your project.\n",
    "\n",
    ">**Note:** If you're finding it hard to dedicate enough time for this course each week, we've provided a small shortcut to this part of the project. In the next couple of problems, you'll have the option to use classes from the [TensorFlow Layers](https://www.tensorflow.org/api_docs/python/tf/layers) or [TensorFlow Layers (contrib)](https://www.tensorflow.org/api_guides/python/contrib.layers) packages to build each layer, except the layers you build in the \"Convolutional and Max Pooling Layer\" section.  TF Layers is similar to Keras's and TFLearn's abstraction to layers, so it's easy to pickup.\n",
    "\n",
    ">However, if you would like to get the most out of this course, try to solve all the problems _without_ using anything from the TF Layers packages. You **can** still use classes from other packages that happen to have the same name as ones you find in TF Layers! For example, instead of using the TF Layers version of the `conv2d` class, [tf.layers.conv2d](https://www.tensorflow.org/api_docs/python/tf/layers/conv2d), you would want to use the TF Neural Network version of `conv2d`, [tf.nn.conv2d](https://www.tensorflow.org/api_docs/python/tf/nn/conv2d). \n",
    "\n",
    "Let's begin!\n",
    "\n",
    "### Input\n",
    "The neural network needs to read the image data, one-hot encoded labels, and dropout keep probability. Implement the following functions\n",
    "* Implement `neural_net_image_input`\n",
    " * Return a [TF Placeholder](https://www.tensorflow.org/api_docs/python/tf/placeholder)\n",
    " * Set the shape using `image_shape` with batch size set to `None`.\n",
    " * Name the TensorFlow placeholder \"x\" using the TensorFlow `name` parameter in the [TF Placeholder](https://www.tensorflow.org/api_docs/python/tf/placeholder).\n",
    "* Implement `neural_net_label_input`\n",
    " * Return a [TF Placeholder](https://www.tensorflow.org/api_docs/python/tf/placeholder)\n",
    " * Set the shape using `n_classes` with batch size set to `None`.\n",
    " * Name the TensorFlow placeholder \"y\" using the TensorFlow `name` parameter in the [TF Placeholder](https://www.tensorflow.org/api_docs/python/tf/placeholder).\n",
    "* Implement `neural_net_keep_prob_input`\n",
    " * Return a [TF Placeholder](https://www.tensorflow.org/api_docs/python/tf/placeholder) for dropout keep probability.\n",
    " * Name the TensorFlow placeholder \"keep_prob\" using the TensorFlow `name` parameter in the [TF Placeholder](https://www.tensorflow.org/api_docs/python/tf/placeholder).\n",
    "\n",
    "These names will be used at the end of the project to load your saved model.\n",
    "\n",
    "Note: `None` for shapes in TensorFlow allow for a dynamic size."
   ]
  },
  {
   "cell_type": "code",
   "execution_count": 52,
   "metadata": {
    "collapsed": false,
    "deletable": true,
    "editable": true
   },
   "outputs": [
    {
     "name": "stdout",
     "output_type": "stream",
     "text": [
      "(32, 32, 3)\n",
      "Image Input Tests Passed.\n",
      "10\n",
      "Label Input Tests Passed.\n",
      "Keep Prob Tests Passed.\n"
     ]
    }
   ],
   "source": [
    "import tensorflow as tf\n",
    "\n",
    "def neural_net_image_input(image_shape):\n",
    "    \"\"\"\n",
    "    Return a Tensor for a bach of image input\n",
    "    : image_shape: Shape of the images\n",
    "    : return: Tensor for image input.\n",
    "    \"\"\"\n",
    "    print(image_shape)\n",
    "    # TODO: Implement Function\n",
    "    x = tf.placeholder(tf.float32,(None, image_shape[0], image_shape[1], image_shape[2]),name=\"x\")\n",
    "    return x\n",
    "\n",
    "\n",
    "def neural_net_label_input(n_classes):\n",
    "    \"\"\"\n",
    "    Return a Tensor for a batch of label input\n",
    "    : n_classes: Number of classes\n",
    "    : return: Tensor for label input.\n",
    "    \"\"\"\n",
    "    print(n_classes)\n",
    "    # TODO: Implement Function\n",
    "    return tf.placeholder(tf.int32, [None, n_classes], name=\"y\")\n",
    "\n",
    "\n",
    "def neural_net_keep_prob_input():\n",
    "    \"\"\"\n",
    "    Return a Tensor for keep probability\n",
    "    : return: Tensor for keep probability.\n",
    "    \"\"\"\n",
    "    # TODO: Implement Function\n",
    "    return tf.placeholder(tf.float32, name=\"keep_prob\")\n",
    "\n",
    "\n",
    "\"\"\"\n",
    "DON'T MODIFY ANYTHING IN THIS CELL THAT IS BELOW THIS LINE\n",
    "\"\"\"\n",
    "tf.reset_default_graph()\n",
    "tests.test_nn_image_inputs(neural_net_image_input)\n",
    "tests.test_nn_label_inputs(neural_net_label_input)\n",
    "tests.test_nn_keep_prob_inputs(neural_net_keep_prob_input)"
   ]
  },
  {
   "cell_type": "markdown",
   "metadata": {
    "deletable": true,
    "editable": true
   },
   "source": [
    "### Convolution and Max Pooling Layer\n",
    "Convolution layers have a lot of success with images. For this code cell, you should implement the function `conv2d_maxpool` to apply convolution then max pooling:\n",
    "* Create the weight and bias using `conv_ksize`, `conv_num_outputs` and the shape of `x_tensor`.\n",
    "* Apply a convolution to `x_tensor` using weight and `conv_strides`.\n",
    " * We recommend you use same padding, but you're welcome to use any padding.\n",
    "* Add bias\n",
    "* Add a nonlinear activation to the convolution.\n",
    "* Apply Max Pooling using `pool_ksize` and `pool_strides`.\n",
    " * We recommend you use same padding, but you're welcome to use any padding.\n",
    "\n",
    "**Note:** You **can't** use [TensorFlow Layers](https://www.tensorflow.org/api_docs/python/tf/layers) or [TensorFlow Layers (contrib)](https://www.tensorflow.org/api_guides/python/contrib.layers) for **this** layer, but you can still use TensorFlow's [Neural Network](https://www.tensorflow.org/api_docs/python/tf/nn) package. You may still use the shortcut option for all the **other** layers."
   ]
  },
  {
   "cell_type": "code",
   "execution_count": 53,
   "metadata": {
    "collapsed": false,
    "deletable": true,
    "editable": true
   },
   "outputs": [
    {
     "name": "stdout",
     "output_type": "stream",
     "text": [
      "Tests Passed\n"
     ]
    }
   ],
   "source": [
    "def conv2d_maxpool(x_tensor, conv_num_outputs, conv_ksize, conv_strides, pool_ksize, pool_strides):\n",
    "    \"\"\"\n",
    "    Apply convolution then max pooling to x_tensor\n",
    "    :param x_tensor: TensorFlow Tensor\n",
    "    :param conv_num_outputs: Number of outputs for the convolutional layer\n",
    "    :param conv_ksize: kernal size 2-D Tuple for the convolutional layer\n",
    "    :param conv_strides: Stride 2-D Tuple for convolution\n",
    "    :param pool_ksize: kernal size 2-D Tuple for pool\n",
    "    :param pool_strides: Stride 2-D Tuple for pool\n",
    "    : return: A tensor that represents convolution and max pooling of x_tensor\n",
    "    \"\"\"\n",
    "    # TODO: Implement Function\n",
    "    weights = tf.Variable(tf.truncated_normal(shape=(*conv_ksize, x_tensor.get_shape().as_list()[-1], conv_num_outputs), mean = 0, stddev = 0.1))\n",
    "    bias = tf.Variable(tf.zeros(conv_num_outputs))\n",
    "    conv_layer = tf.nn.conv2d(x_tensor, weights, strides = [1, *conv_strides ,1], padding = 'VALID')\n",
    "    conv_layer = tf.nn.bias_add(conv_layer, bias)\n",
    "    conv_layer = tf.nn.relu(conv_layer)\n",
    "    conv_layer = tf.nn.max_pool(conv_layer, ksize = [1, *pool_ksize, 1], strides = [1,*pool_strides, 1], padding='VALID')\n",
    "    return conv_layer \n",
    "\n",
    "\n",
    "\"\"\"\n",
    "DON'T MODIFY ANYTHING IN THIS CELL THAT IS BELOW THIS LINE\n",
    "\"\"\"\n",
    "tests.test_con_pool(conv2d_maxpool)"
   ]
  },
  {
   "cell_type": "markdown",
   "metadata": {
    "deletable": true,
    "editable": true
   },
   "source": [
    "### Flatten Layer\n",
    "Implement the `flatten` function to change the dimension of `x_tensor` from a 4-D tensor to a 2-D tensor.  The output should be the shape (*Batch Size*, *Flattened Image Size*). Shortcut option: you can use classes from the [TensorFlow Layers](https://www.tensorflow.org/api_docs/python/tf/layers) or [TensorFlow Layers (contrib)](https://www.tensorflow.org/api_guides/python/contrib.layers) packages for this layer. For more of a challenge, only use other TensorFlow packages."
   ]
  },
  {
   "cell_type": "code",
   "execution_count": 54,
   "metadata": {
    "collapsed": false,
    "deletable": true,
    "editable": true
   },
   "outputs": [
    {
     "name": "stdout",
     "output_type": "stream",
     "text": [
      "Tests Passed\n"
     ]
    }
   ],
   "source": [
    "def flatten(x_tensor):\n",
    "    \"\"\"\n",
    "    Flatten x_tensor to (Batch Size, Flattened Image Size)\n",
    "    : x_tensor: A tensor of size (Batch Size, ...), where ... are the image dimensions.\n",
    "    : return: A tensor of size (Batch Size, Flattened Image Size).\n",
    "    \"\"\"\n",
    "    # TODO: Implement Function\n",
    "    shape = x_tensor.get_shape().as_list()\n",
    "    return tf.reshape(x_tensor, [-1, shape[1]*shape[2]*shape[3]])\n",
    "\n",
    "\n",
    "\"\"\"\n",
    "DON'T MODIFY ANYTHING IN THIS CELL THAT IS BELOW THIS LINE\n",
    "\"\"\"\n",
    "tests.test_flatten(flatten)"
   ]
  },
  {
   "cell_type": "markdown",
   "metadata": {
    "deletable": true,
    "editable": true
   },
   "source": [
    "### Fully-Connected Layer\n",
    "Implement the `fully_conn` function to apply a fully connected layer to `x_tensor` with the shape (*Batch Size*, *num_outputs*). Shortcut option: you can use classes from the [TensorFlow Layers](https://www.tensorflow.org/api_docs/python/tf/layers) or [TensorFlow Layers (contrib)](https://www.tensorflow.org/api_guides/python/contrib.layers) packages for this layer. For more of a challenge, only use other TensorFlow packages."
   ]
  },
  {
   "cell_type": "code",
   "execution_count": 55,
   "metadata": {
    "collapsed": false,
    "deletable": true,
    "editable": true
   },
   "outputs": [
    {
     "name": "stdout",
     "output_type": "stream",
     "text": [
      "Tests Passed\n"
     ]
    }
   ],
   "source": [
    "def fully_conn(x_tensor, num_outputs):\n",
    "    \"\"\"\n",
    "    Apply a fully connected layer to x_tensor using weight and bias\n",
    "    : x_tensor: A 2-D tensor where the first dimension is batch size.\n",
    "    : num_outputs: The number of output that the new tensor should be.\n",
    "    : return: A 2-D tensor where the second dimension is num_outputs.\n",
    "    \"\"\"\n",
    "    # TODO: Implement Function\n",
    "    shape = x_tensor.get_shape().as_list()\n",
    "    weights = tf.Variable(tf.truncated_normal((shape[1], num_outputs), mean = 0, stddev = 0.1))\n",
    "    # return the layer\n",
    "    return tf.matmul(x_tensor, weights)\n",
    "\n",
    "\n",
    "\"\"\"\n",
    "DON'T MODIFY ANYTHING IN THIS CELL THAT IS BELOW THIS LINE\n",
    "\"\"\"\n",
    "tests.test_fully_conn(fully_conn)"
   ]
  },
  {
   "cell_type": "markdown",
   "metadata": {
    "deletable": true,
    "editable": true
   },
   "source": [
    "### Output Layer\n",
    "Implement the `output` function to apply a fully connected layer to `x_tensor` with the shape (*Batch Size*, *num_outputs*). Shortcut option: you can use classes from the [TensorFlow Layers](https://www.tensorflow.org/api_docs/python/tf/layers) or [TensorFlow Layers (contrib)](https://www.tensorflow.org/api_guides/python/contrib.layers) packages for this layer. For more of a challenge, only use other TensorFlow packages.\n",
    "\n",
    "**Note:** Activation, softmax, or cross entropy should **not** be applied to this."
   ]
  },
  {
   "cell_type": "code",
   "execution_count": 56,
   "metadata": {
    "collapsed": false,
    "deletable": true,
    "editable": true
   },
   "outputs": [
    {
     "name": "stdout",
     "output_type": "stream",
     "text": [
      "Tests Passed\n"
     ]
    }
   ],
   "source": [
    "def output(x_tensor, num_outputs):\n",
    "    \"\"\"\n",
    "    Apply a output layer to x_tensor using weight and bias\n",
    "    : x_tensor: A 2-D tensor where the first dimension is batch size.\n",
    "    : num_outputs: The number of output that the new tensor should be.\n",
    "    : return: A 2-D tensor where the second dimension is num_outputs.\n",
    "    \"\"\"\n",
    "    # TODO: Implement Function\n",
    "    shape = x_tensor.get_shape().as_list()\n",
    "    weights = tf.Variable(tf.truncated_normal((shape[1], num_outputs), mean = 0, stddev = 0.1))\n",
    "    # return the layer\n",
    "    return tf.matmul(x_tensor, weights)\n",
    "\n",
    "\n",
    "\"\"\"\n",
    "DON'T MODIFY ANYTHING IN THIS CELL THAT IS BELOW THIS LINE\n",
    "\"\"\"\n",
    "tests.test_output(output)"
   ]
  },
  {
   "cell_type": "markdown",
   "metadata": {
    "deletable": true,
    "editable": true
   },
   "source": [
    "### Create Convolutional Model\n",
    "Implement the function `conv_net` to create a convolutional neural network model. The function takes in a batch of images, `x`, and outputs logits.  Use the layers you created above to create this model:\n",
    "\n",
    "* Apply 1, 2, or 3 Convolution and Max Pool layers\n",
    "* Apply a Flatten Layer\n",
    "* Apply 1, 2, or 3 Fully Connected Layers\n",
    "* Apply an Output Layer\n",
    "* Return the output\n",
    "* Apply [TensorFlow's Dropout](https://www.tensorflow.org/api_docs/python/tf/nn/dropout) to one or more layers in the model using `keep_prob`. "
   ]
  },
  {
   "cell_type": "code",
   "execution_count": 57,
   "metadata": {
    "collapsed": false,
    "deletable": true,
    "editable": true
   },
   "outputs": [
    {
     "name": "stdout",
     "output_type": "stream",
     "text": [
      "(32, 32, 3)\n",
      "10\n",
      "Neural Network Built!\n"
     ]
    }
   ],
   "source": [
    "def conv_net(x, keep_prob):\n",
    "    \"\"\"\n",
    "    Create a convolutional neural network model\n",
    "    : x: Placeholder tensor that holds image data.\n",
    "    : keep_prob: Placeholder tensor that hold dropout keep probability.\n",
    "    : return: Tensor that represents logits\n",
    "    \"\"\"\n",
    "    # TODO: Apply 1, 2, or 3 Convolution and Max Pool layers\n",
    "    #    Play around with different number of outputs, kernel size and stride\n",
    "    # Function Definition from Above:\n",
    "    #    conv2d_maxpool(x_tensor, conv_num_outputs, conv_ksize, conv_strides, pool_ksize, pool_strides)\n",
    "    #print(x)\n",
    "    conv_num_outputs = 32\n",
    "    conv_ksize = [5,5]\n",
    "    conv_strides = [1,1]\n",
    "    pool_ksize = [2,2]\n",
    "    pool_strides = [2,2]                            \n",
    "    conv1 = conv2d_maxpool(x, conv_num_outputs, conv_ksize, conv_strides, pool_ksize, pool_strides)\n",
    "\n",
    "    conv4_ksize = [1,1]\n",
    "    conv4_strides = [1,1]\n",
    "    pool4_ksize = [1,1]\n",
    "    pool4_strides = [1,1]\n",
    "    conv4 = conv2d_maxpool(conv1, conv_num_outputs, conv4_ksize, conv4_strides, pool4_ksize, pool4_strides)\n",
    "    \n",
    "    # TODO: Apply a Flatten Layer\n",
    "    # Function Definition from Above:\n",
    "    #   flatten(x_tensor)\n",
    "    flat = flatten(conv4)\n",
    "    \n",
    "\n",
    "    # TODO: Apply 1, 2, or 3 Fully Connected Layers\n",
    "    #    Play around with different number of outputs\n",
    "    # Function Definition from Above:\n",
    "    #   fully_conn(x_tensor, num_outputs)\n",
    "    fc1 = fully_conn(flat, 128)\n",
    "    fc1 = tf.nn.dropout(fc1, keep_prob=keep_prob)\n",
    "    fc2 = fully_conn(fc1, 64)\n",
    "    fc2 = tf.nn.dropout(fc2, keep_prob=keep_prob)\n",
    "    \n",
    "    # TODO: Apply an Output Layer\n",
    "    #    Set this to the number of classes\n",
    "    # Function Definition from Above:\n",
    "    #   output(x_tensor, num_outputs)\n",
    "    out = output(fc2, 10)\n",
    "    \n",
    "    # TODO: return output\n",
    "    return out\n",
    "\n",
    "\n",
    "\"\"\"\n",
    "DON'T MODIFY ANYTHING IN THIS CELL THAT IS BELOW THIS LINE\n",
    "\"\"\"\n",
    "\n",
    "##############################\n",
    "## Build the Neural Network ##\n",
    "##############################\n",
    "\n",
    "# Remove previous weights, bias, inputs, etc..\n",
    "tf.reset_default_graph()\n",
    "\n",
    "# Inputs\n",
    "x = neural_net_image_input((32, 32, 3))\n",
    "y = neural_net_label_input(10)\n",
    "keep_prob = neural_net_keep_prob_input()\n",
    "\n",
    "# Model\n",
    "logits = conv_net(x, keep_prob)\n",
    "\n",
    "# Name logits Tensor, so that is can be loaded from disk after training\n",
    "logits = tf.identity(logits, name='logits')\n",
    "\n",
    "# Loss and Optimizer\n",
    "cost = tf.reduce_mean(tf.nn.softmax_cross_entropy_with_logits(logits=logits, labels=y))\n",
    "optimizer = tf.train.AdamOptimizer().minimize(cost)\n",
    "\n",
    "# Accuracy\n",
    "correct_pred = tf.equal(tf.argmax(logits, 1), tf.argmax(y, 1))\n",
    "accuracy = tf.reduce_mean(tf.cast(correct_pred, tf.float32), name='accuracy')\n",
    "\n",
    "tests.test_conv_net(conv_net)"
   ]
  },
  {
   "cell_type": "markdown",
   "metadata": {
    "deletable": true,
    "editable": true
   },
   "source": [
    "## Train the Neural Network\n",
    "### Single Optimization\n",
    "Implement the function `train_neural_network` to do a single optimization.  The optimization should use `optimizer` to optimize in `session` with a `feed_dict` of the following:\n",
    "* `x` for image input\n",
    "* `y` for labels\n",
    "* `keep_prob` for keep probability for dropout\n",
    "\n",
    "This function will be called for each batch, so `tf.global_variables_initializer()` has already been called.\n",
    "\n",
    "Note: Nothing needs to be returned. This function is only optimizing the neural network."
   ]
  },
  {
   "cell_type": "code",
   "execution_count": 58,
   "metadata": {
    "collapsed": false,
    "deletable": true,
    "editable": true
   },
   "outputs": [
    {
     "name": "stdout",
     "output_type": "stream",
     "text": [
      "Tests Passed\n"
     ]
    }
   ],
   "source": [
    "def train_neural_network(session, optimizer, keep_probability, feature_batch, label_batch):\n",
    "    \"\"\"\n",
    "    Optimize the session on a batch of images and labels\n",
    "    : session: Current TensorFlow session\n",
    "    : optimizer: TensorFlow optimizer function\n",
    "    : keep_probability: keep probability\n",
    "    : feature_batch: Batch of Numpy image data\n",
    "    : label_batch: Batch of Numpy label data\n",
    "    \"\"\"\n",
    "    # TODO: Implement Function\n",
    "    session.run(optimizer, feed_dict={\n",
    "                x: feature_batch,\n",
    "                y: label_batch,\n",
    "                keep_prob: keep_probability})\n",
    "\n",
    "\n",
    "\n",
    "\"\"\"\n",
    "DON'T MODIFY ANYTHING IN THIS CELL THAT IS BELOW THIS LINE\n",
    "\"\"\"\n",
    "tests.test_train_nn(train_neural_network)"
   ]
  },
  {
   "cell_type": "markdown",
   "metadata": {
    "deletable": true,
    "editable": true
   },
   "source": [
    "### Show Stats\n",
    "Implement the function `print_stats` to print loss and validation accuracy.  Use the global variables `valid_features` and `valid_labels` to calculate validation accuracy.  Use a keep probability of `1.0` to calculate the loss and validation accuracy."
   ]
  },
  {
   "cell_type": "code",
   "execution_count": 62,
   "metadata": {
    "collapsed": false,
    "deletable": true,
    "editable": true
   },
   "outputs": [],
   "source": [
    "def print_stats(session, feature_batch, label_batch, cost, accuracy):\n",
    "    \"\"\"\n",
    "    Print information about loss and validation accuracy\n",
    "    : session: Current TensorFlow session\n",
    "    : feature_batch: Batch of Numpy image data\n",
    "    : label_batch: Batch of Numpy label data\n",
    "    : cost: TensorFlow cost function\n",
    "    : accuracy: TensorFlow accuracy function\n",
    "    \"\"\"\n",
    "    # TODO: Implement Function\n",
    "    loss = session.run(cost, feed_dict = {x: feature_batch, y: label_batch, keep_prob: 1.0})\n",
    "    accuracy = session.run(accuracy, feed_dict = {x: valid_features, y: valid_labels, keep_prob: 1.0})\n",
    "    print('Loss is {}'.format(loss), 'Validation accuracy is {}'.format(accuracy))\n"
   ]
  },
  {
   "cell_type": "markdown",
   "metadata": {
    "deletable": true,
    "editable": true
   },
   "source": [
    "### Hyperparameters\n",
    "Tune the following parameters:\n",
    "* Set `epochs` to the number of iterations until the network stops learning or start overfitting\n",
    "* Set `batch_size` to the highest number that your machine has memory for.  Most people set them to common sizes of memory:\n",
    " * 64\n",
    " * 128\n",
    " * 256\n",
    " * ...\n",
    "* Set `keep_probability` to the probability of keeping a node using dropout"
   ]
  },
  {
   "cell_type": "code",
   "execution_count": 63,
   "metadata": {
    "collapsed": true,
    "deletable": true,
    "editable": true
   },
   "outputs": [],
   "source": [
    "# TODO: Tune Parameters\n",
    "epochs = 20\n",
    "batch_size = 128\n",
    "keep_probability = 0.5"
   ]
  },
  {
   "cell_type": "markdown",
   "metadata": {
    "deletable": true,
    "editable": true
   },
   "source": [
    "### Train on a Single CIFAR-10 Batch\n",
    "Instead of training the neural network on all the CIFAR-10 batches of data, let's use a single batch. This should save time while you iterate on the model to get a better accuracy.  Once the final validation accuracy is 50% or greater, run the model on all the data in the next section."
   ]
  },
  {
   "cell_type": "code",
   "execution_count": 64,
   "metadata": {
    "collapsed": false,
    "deletable": true,
    "editable": true
   },
   "outputs": [
    {
     "name": "stdout",
     "output_type": "stream",
     "text": [
      "Checking the Training on a Single Batch...\n",
      "Epoch  1, CIFAR-10 Batch 1:  Loss is 2.002704381942749 Validation accuracy is 0.3685999810695648\n",
      "Epoch  2, CIFAR-10 Batch 1:  Loss is 1.8157849311828613 Validation accuracy is 0.4347999393939972\n",
      "Epoch  3, CIFAR-10 Batch 1:  Loss is 1.6442922353744507 Validation accuracy is 0.46059998869895935\n",
      "Epoch  4, CIFAR-10 Batch 1:  Loss is 1.5174392461776733 Validation accuracy is 0.49459996819496155\n",
      "Epoch  5, CIFAR-10 Batch 1:  Loss is 1.3855466842651367 Validation accuracy is 0.494799941778183\n",
      "Epoch  6, CIFAR-10 Batch 1:  Loss is 1.2516576051712036 Validation accuracy is 0.5001999735832214\n",
      "Epoch  7, CIFAR-10 Batch 1:  Loss is 1.1033616065979004 Validation accuracy is 0.5123999118804932\n",
      "Epoch  8, CIFAR-10 Batch 1:  Loss is 0.9099722504615784 Validation accuracy is 0.5097999572753906\n",
      "Epoch  9, CIFAR-10 Batch 1:  Loss is 0.7998584508895874 Validation accuracy is 0.5125999450683594\n",
      "Epoch 10, CIFAR-10 Batch 1:  Loss is 0.7067012190818787 Validation accuracy is 0.511199951171875\n",
      "Epoch 11, CIFAR-10 Batch 1:  Loss is 0.6065024137496948 Validation accuracy is 0.5241999626159668\n",
      "Epoch 12, CIFAR-10 Batch 1:  Loss is 0.5402896404266357 Validation accuracy is 0.5165998935699463\n",
      "Epoch 13, CIFAR-10 Batch 1:  Loss is 0.5125467777252197 Validation accuracy is 0.5108000040054321\n",
      "Epoch 14, CIFAR-10 Batch 1:  Loss is 0.4318597614765167 Validation accuracy is 0.5405999422073364\n",
      "Epoch 15, CIFAR-10 Batch 1:  Loss is 0.37823790311813354 Validation accuracy is 0.5293999314308167\n",
      "Epoch 16, CIFAR-10 Batch 1:  Loss is 0.3417090177536011 Validation accuracy is 0.5283999443054199\n",
      "Epoch 17, CIFAR-10 Batch 1:  Loss is 0.23801682889461517 Validation accuracy is 0.5327998995780945\n",
      "Epoch 18, CIFAR-10 Batch 1:  Loss is 0.2287845015525818 Validation accuracy is 0.5441999435424805\n",
      "Epoch 19, CIFAR-10 Batch 1:  Loss is 0.2522183060646057 Validation accuracy is 0.532599925994873\n",
      "Epoch 20, CIFAR-10 Batch 1:  Loss is 0.23139137029647827 Validation accuracy is 0.5353999137878418\n"
     ]
    }
   ],
   "source": [
    "\"\"\"\n",
    "DON'T MODIFY ANYTHING IN THIS CELL\n",
    "\"\"\"\n",
    "print('Checking the Training on a Single Batch...')\n",
    "with tf.Session() as sess:\n",
    "    # Initializing the variables\n",
    "    sess.run(tf.global_variables_initializer())\n",
    "    \n",
    "    # Training cycle\n",
    "    for epoch in range(epochs):\n",
    "        batch_i = 1\n",
    "        for batch_features, batch_labels in helper.load_preprocess_training_batch(batch_i, batch_size):\n",
    "            train_neural_network(sess, optimizer, keep_probability, batch_features, batch_labels)\n",
    "        print('Epoch {:>2}, CIFAR-10 Batch {}:  '.format(epoch + 1, batch_i), end='')\n",
    "        print_stats(sess, batch_features, batch_labels, cost, accuracy)"
   ]
  },
  {
   "cell_type": "markdown",
   "metadata": {
    "deletable": true,
    "editable": true
   },
   "source": [
    "### Fully Train the Model\n",
    "Now that you got a good accuracy with a single CIFAR-10 batch, try it with all five batches."
   ]
  },
  {
   "cell_type": "code",
   "execution_count": 65,
   "metadata": {
    "collapsed": false,
    "deletable": true,
    "editable": true
   },
   "outputs": [
    {
     "name": "stdout",
     "output_type": "stream",
     "text": [
      "Training...\n",
      "Epoch  1, CIFAR-10 Batch 1:  Loss is 2.047095775604248 Validation accuracy is 0.35579997301101685\n",
      "Epoch  1, CIFAR-10 Batch 2:  Loss is 1.6459105014801025 Validation accuracy is 0.43639999628067017\n",
      "Epoch  1, CIFAR-10 Batch 3:  Loss is 1.399839162826538 Validation accuracy is 0.4453999996185303\n",
      "Epoch  1, CIFAR-10 Batch 4:  Loss is 1.4659526348114014 Validation accuracy is 0.4833999276161194\n",
      "Epoch  1, CIFAR-10 Batch 5:  Loss is 1.5106011629104614 Validation accuracy is 0.517799973487854\n",
      "Epoch  2, CIFAR-10 Batch 1:  Loss is 1.6216459274291992 Validation accuracy is 0.5155999660491943\n",
      "Epoch  2, CIFAR-10 Batch 2:  Loss is 1.274363398551941 Validation accuracy is 0.5207999348640442\n",
      "Epoch  2, CIFAR-10 Batch 3:  Loss is 1.0383120775222778 Validation accuracy is 0.5331999063491821\n",
      "Epoch  2, CIFAR-10 Batch 4:  Loss is 1.1717705726623535 Validation accuracy is 0.5473999381065369\n",
      "Epoch  2, CIFAR-10 Batch 5:  Loss is 1.2458176612854004 Validation accuracy is 0.5445999503135681\n",
      "Epoch  3, CIFAR-10 Batch 1:  Loss is 1.452246069908142 Validation accuracy is 0.5471999049186707\n",
      "Epoch  3, CIFAR-10 Batch 2:  Loss is 1.1291017532348633 Validation accuracy is 0.5573999285697937\n",
      "Epoch  3, CIFAR-10 Batch 3:  Loss is 0.9306040406227112 Validation accuracy is 0.558199942111969\n",
      "Epoch  3, CIFAR-10 Batch 4:  Loss is 1.0180305242538452 Validation accuracy is 0.5845999121665955\n",
      "Epoch  3, CIFAR-10 Batch 5:  Loss is 1.019902229309082 Validation accuracy is 0.5821999311447144\n",
      "Epoch  4, CIFAR-10 Batch 1:  Loss is 1.2176191806793213 Validation accuracy is 0.5921998620033264\n",
      "Epoch  4, CIFAR-10 Batch 2:  Loss is 0.9557479619979858 Validation accuracy is 0.5897999405860901\n",
      "Epoch  4, CIFAR-10 Batch 3:  Loss is 0.7402807474136353 Validation accuracy is 0.5975999236106873\n",
      "Epoch  4, CIFAR-10 Batch 4:  Loss is 0.9378328919410706 Validation accuracy is 0.5971999168395996\n",
      "Epoch  4, CIFAR-10 Batch 5:  Loss is 0.8716150522232056 Validation accuracy is 0.5947999358177185\n",
      "Epoch  5, CIFAR-10 Batch 1:  Loss is 1.0743485689163208 Validation accuracy is 0.6067999601364136\n",
      "Epoch  5, CIFAR-10 Batch 2:  Loss is 0.8092280030250549 Validation accuracy is 0.6191999316215515\n",
      "Epoch  5, CIFAR-10 Batch 3:  Loss is 0.6606162190437317 Validation accuracy is 0.6121999621391296\n",
      "Epoch  5, CIFAR-10 Batch 4:  Loss is 0.8595044612884521 Validation accuracy is 0.6125999093055725\n",
      "Epoch  5, CIFAR-10 Batch 5:  Loss is 0.8125783801078796 Validation accuracy is 0.6075999140739441\n",
      "Epoch  6, CIFAR-10 Batch 1:  Loss is 0.9658747315406799 Validation accuracy is 0.6299998760223389\n",
      "Epoch  6, CIFAR-10 Batch 2:  Loss is 0.7389997243881226 Validation accuracy is 0.6271998882293701\n",
      "Epoch  6, CIFAR-10 Batch 3:  Loss is 0.5685052275657654 Validation accuracy is 0.6293998956680298\n",
      "Epoch  6, CIFAR-10 Batch 4:  Loss is 0.7480641007423401 Validation accuracy is 0.627599835395813\n",
      "Epoch  6, CIFAR-10 Batch 5:  Loss is 0.6976883411407471 Validation accuracy is 0.6169999241828918\n",
      "Epoch  7, CIFAR-10 Batch 1:  Loss is 0.840238094329834 Validation accuracy is 0.6305999159812927\n",
      "Epoch  7, CIFAR-10 Batch 2:  Loss is 0.702907383441925 Validation accuracy is 0.6351999044418335\n",
      "Epoch  7, CIFAR-10 Batch 3:  Loss is 0.5422477722167969 Validation accuracy is 0.6387999057769775\n",
      "Epoch  7, CIFAR-10 Batch 4:  Loss is 0.709237277507782 Validation accuracy is 0.6253998279571533\n",
      "Epoch  7, CIFAR-10 Batch 5:  Loss is 0.6778043508529663 Validation accuracy is 0.6393998861312866\n",
      "Epoch  8, CIFAR-10 Batch 1:  Loss is 0.7510890364646912 Validation accuracy is 0.6281999349594116\n",
      "Epoch  8, CIFAR-10 Batch 2:  Loss is 0.6270549893379211 Validation accuracy is 0.6483998894691467\n",
      "Epoch  8, CIFAR-10 Batch 3:  Loss is 0.49984848499298096 Validation accuracy is 0.6383998394012451\n",
      "Epoch  8, CIFAR-10 Batch 4:  Loss is 0.6529517769813538 Validation accuracy is 0.6375998854637146\n",
      "Epoch  8, CIFAR-10 Batch 5:  Loss is 0.5987639427185059 Validation accuracy is 0.6327998638153076\n",
      "Epoch  9, CIFAR-10 Batch 1:  Loss is 0.7388589382171631 Validation accuracy is 0.6167999505996704\n",
      "Epoch  9, CIFAR-10 Batch 2:  Loss is 0.6251022219657898 Validation accuracy is 0.6373999118804932\n",
      "Epoch  9, CIFAR-10 Batch 3:  Loss is 0.48403263092041016 Validation accuracy is 0.6341999173164368\n",
      "Epoch  9, CIFAR-10 Batch 4:  Loss is 0.5899426341056824 Validation accuracy is 0.6297998428344727\n",
      "Epoch  9, CIFAR-10 Batch 5:  Loss is 0.5195971727371216 Validation accuracy is 0.6391998529434204\n",
      "Epoch 10, CIFAR-10 Batch 1:  Loss is 0.6554099321365356 Validation accuracy is 0.638999879360199\n",
      "Epoch 10, CIFAR-10 Batch 2:  Loss is 0.5134338140487671 Validation accuracy is 0.6389998197555542\n",
      "Epoch 10, CIFAR-10 Batch 3:  Loss is 0.41937950253486633 Validation accuracy is 0.6439998745918274\n",
      "Epoch 10, CIFAR-10 Batch 4:  Loss is 0.5843117237091064 Validation accuracy is 0.6321998834609985\n",
      "Epoch 10, CIFAR-10 Batch 5:  Loss is 0.5077064037322998 Validation accuracy is 0.6243999004364014\n",
      "Epoch 11, CIFAR-10 Batch 1:  Loss is 0.6291873455047607 Validation accuracy is 0.6369999051094055\n",
      "Epoch 11, CIFAR-10 Batch 2:  Loss is 0.5142577886581421 Validation accuracy is 0.6433998942375183\n",
      "Epoch 11, CIFAR-10 Batch 3:  Loss is 0.4628368020057678 Validation accuracy is 0.6403998732566833\n",
      "Epoch 11, CIFAR-10 Batch 4:  Loss is 0.540898859500885 Validation accuracy is 0.6357998847961426\n",
      "Epoch 11, CIFAR-10 Batch 5:  Loss is 0.4379562735557556 Validation accuracy is 0.6419999003410339\n",
      "Epoch 12, CIFAR-10 Batch 1:  Loss is 0.5677251219749451 Validation accuracy is 0.6349998712539673\n",
      "Epoch 12, CIFAR-10 Batch 2:  Loss is 0.46335405111312866 Validation accuracy is 0.6459999680519104\n",
      "Epoch 12, CIFAR-10 Batch 3:  Loss is 0.41017526388168335 Validation accuracy is 0.6451998353004456\n",
      "Epoch 12, CIFAR-10 Batch 4:  Loss is 0.4976273775100708 Validation accuracy is 0.6427998542785645\n",
      "Epoch 12, CIFAR-10 Batch 5:  Loss is 0.45275720953941345 Validation accuracy is 0.6409999132156372\n",
      "Epoch 13, CIFAR-10 Batch 1:  Loss is 0.6125666499137878 Validation accuracy is 0.6307998895645142\n",
      "Epoch 13, CIFAR-10 Batch 2:  Loss is 0.4414938688278198 Validation accuracy is 0.6411998271942139\n",
      "Epoch 13, CIFAR-10 Batch 3:  Loss is 0.4004264771938324 Validation accuracy is 0.6391999125480652\n",
      "Epoch 13, CIFAR-10 Batch 4:  Loss is 0.45150965452194214 Validation accuracy is 0.6411999464035034\n",
      "Epoch 13, CIFAR-10 Batch 5:  Loss is 0.4262446165084839 Validation accuracy is 0.6275999546051025\n",
      "Epoch 14, CIFAR-10 Batch 1:  Loss is 0.49796217679977417 Validation accuracy is 0.6379998326301575\n",
      "Epoch 14, CIFAR-10 Batch 2:  Loss is 0.4113692343235016 Validation accuracy is 0.6495998501777649\n",
      "Epoch 14, CIFAR-10 Batch 3:  Loss is 0.3667154312133789 Validation accuracy is 0.6411999464035034\n",
      "Epoch 14, CIFAR-10 Batch 4:  Loss is 0.428134560585022 Validation accuracy is 0.6413998603820801\n",
      "Epoch 14, CIFAR-10 Batch 5:  Loss is 0.38337215781211853 Validation accuracy is 0.6465999484062195\n",
      "Epoch 15, CIFAR-10 Batch 1:  Loss is 0.482118159532547 Validation accuracy is 0.6303999423980713\n",
      "Epoch 15, CIFAR-10 Batch 2:  Loss is 0.35551732778549194 Validation accuracy is 0.6487998962402344\n",
      "Epoch 15, CIFAR-10 Batch 3:  Loss is 0.38588660955429077 Validation accuracy is 0.6339998841285706\n",
      "Epoch 15, CIFAR-10 Batch 4:  Loss is 0.3994850516319275 Validation accuracy is 0.6403999328613281\n",
      "Epoch 15, CIFAR-10 Batch 5:  Loss is 0.3669980764389038 Validation accuracy is 0.6337998509407043\n",
      "Epoch 16, CIFAR-10 Batch 1:  Loss is 0.4698764681816101 Validation accuracy is 0.6197999119758606\n",
      "Epoch 16, CIFAR-10 Batch 2:  Loss is 0.32728326320648193 Validation accuracy is 0.649199903011322\n",
      "Epoch 16, CIFAR-10 Batch 3:  Loss is 0.3150436282157898 Validation accuracy is 0.6441999077796936\n",
      "Epoch 16, CIFAR-10 Batch 4:  Loss is 0.38828474283218384 Validation accuracy is 0.6299998760223389\n",
      "Epoch 16, CIFAR-10 Batch 5:  Loss is 0.3127794563770294 Validation accuracy is 0.6485998630523682\n",
      "Epoch 17, CIFAR-10 Batch 1:  Loss is 0.4372919797897339 Validation accuracy is 0.6201999187469482\n",
      "Epoch 17, CIFAR-10 Batch 2:  Loss is 0.36032506823539734 Validation accuracy is 0.6505998373031616\n",
      "Epoch 17, CIFAR-10 Batch 3:  Loss is 0.3309783935546875 Validation accuracy is 0.627799928188324\n",
      "Epoch 17, CIFAR-10 Batch 4:  Loss is 0.371052622795105 Validation accuracy is 0.6379998922348022\n",
      "Epoch 17, CIFAR-10 Batch 5:  Loss is 0.3189430236816406 Validation accuracy is 0.6351999044418335\n",
      "Epoch 18, CIFAR-10 Batch 1:  Loss is 0.4343777000904083 Validation accuracy is 0.6339998841285706\n",
      "Epoch 18, CIFAR-10 Batch 2:  Loss is 0.30258604884147644 Validation accuracy is 0.6425999402999878\n",
      "Epoch 18, CIFAR-10 Batch 3:  Loss is 0.3000752031803131 Validation accuracy is 0.634199857711792\n",
      "Epoch 18, CIFAR-10 Batch 4:  Loss is 0.3599945604801178 Validation accuracy is 0.6365998983383179\n",
      "Epoch 18, CIFAR-10 Batch 5:  Loss is 0.27377575635910034 Validation accuracy is 0.6417999267578125\n",
      "Epoch 19, CIFAR-10 Batch 1:  Loss is 0.4067557454109192 Validation accuracy is 0.630599856376648\n",
      "Epoch 19, CIFAR-10 Batch 2:  Loss is 0.29783937335014343 Validation accuracy is 0.6481999158859253\n",
      "Epoch 19, CIFAR-10 Batch 3:  Loss is 0.3021215796470642 Validation accuracy is 0.6137998700141907\n",
      "Epoch 19, CIFAR-10 Batch 4:  Loss is 0.3771994411945343 Validation accuracy is 0.6269998550415039\n",
      "Epoch 19, CIFAR-10 Batch 5:  Loss is 0.24711400270462036 Validation accuracy is 0.6285998821258545\n",
      "Epoch 20, CIFAR-10 Batch 1:  Loss is 0.3930663764476776 Validation accuracy is 0.6123998761177063\n",
      "Epoch 20, CIFAR-10 Batch 2:  Loss is 0.23866330087184906 Validation accuracy is 0.6405999064445496\n",
      "Epoch 20, CIFAR-10 Batch 3:  Loss is 0.2852793037891388 Validation accuracy is 0.6315998435020447\n",
      "Epoch 20, CIFAR-10 Batch 4:  Loss is 0.339293897151947 Validation accuracy is 0.6341999173164368\n",
      "Epoch 20, CIFAR-10 Batch 5:  Loss is 0.2441127449274063 Validation accuracy is 0.6207998991012573\n"
     ]
    }
   ],
   "source": [
    "\"\"\"\n",
    "DON'T MODIFY ANYTHING IN THIS CELL\n",
    "\"\"\"\n",
    "save_model_path = './image_classification'\n",
    "\n",
    "print('Training...')\n",
    "with tf.Session() as sess:\n",
    "    # Initializing the variables\n",
    "    sess.run(tf.global_variables_initializer())\n",
    "    \n",
    "    # Training cycle\n",
    "    for epoch in range(epochs):\n",
    "        # Loop over all batches\n",
    "        n_batches = 5\n",
    "        for batch_i in range(1, n_batches + 1):\n",
    "            for batch_features, batch_labels in helper.load_preprocess_training_batch(batch_i, batch_size):\n",
    "                train_neural_network(sess, optimizer, keep_probability, batch_features, batch_labels)\n",
    "            print('Epoch {:>2}, CIFAR-10 Batch {}:  '.format(epoch + 1, batch_i), end='')\n",
    "            print_stats(sess, batch_features, batch_labels, cost, accuracy)\n",
    "            \n",
    "    # Save Model\n",
    "    saver = tf.train.Saver()\n",
    "    save_path = saver.save(sess, save_model_path)"
   ]
  },
  {
   "cell_type": "markdown",
   "metadata": {
    "deletable": true,
    "editable": true
   },
   "source": [
    "# Checkpoint\n",
    "The model has been saved to disk.\n",
    "## Test Model\n",
    "Test your model against the test dataset.  This will be your final accuracy. You should have an accuracy greater than 50%. If you don't, keep tweaking the model architecture and parameters."
   ]
  },
  {
   "cell_type": "code",
   "execution_count": 6,
   "metadata": {
    "collapsed": false,
    "deletable": true,
    "editable": true
   },
   "outputs": [
    {
     "name": "stdout",
     "output_type": "stream",
     "text": [
      "Testing Accuracy: 0.6156449044585988\n",
      "\n"
     ]
    },
    {
     "data": {
      "image/png": "[encoded data removed]",
      "text/plain": [
       "<matplotlib.figure.Figure at 0x7f53aca76c50>"
      ]
     },
     "metadata": {
      "image/png": {
       "height": 319,
       "width": 355
      }
     },
     "output_type": "display_data"
    }
   ],
   "source": [
    "\"\"\"\n",
    "DON'T MODIFY ANYTHING IN THIS CELL\n",
    "\"\"\"\n",
    "%matplotlib inline\n",
    "%config InlineBackend.figure_format = 'retina'\n",
    "\n",
    "import tensorflow as tf\n",
    "import pickle\n",
    "import helper\n",
    "import random\n",
    "\n",
    "# Set batch size if not already set\n",
    "try:\n",
    "    if batch_size:\n",
    "        pass\n",
    "except NameError:\n",
    "    batch_size = 64\n",
    "\n",
    "save_model_path = './image_classification'\n",
    "n_samples = 4\n",
    "top_n_predictions = 3\n",
    "\n",
    "def test_model():\n",
    "    \"\"\"\n",
    "    Test the saved model against the test dataset\n",
    "    \"\"\"\n",
    "\n",
    "    test_features, test_labels = pickle.load(open('preprocess_training.p', mode='rb'))\n",
    "    loaded_graph = tf.Graph()\n",
    "\n",
    "    with tf.Session(graph=loaded_graph) as sess:\n",
    "        # Load model\n",
    "        loader = tf.train.import_meta_graph(save_model_path + '.meta')\n",
    "        loader.restore(sess, save_model_path)\n",
    "\n",
    "        # Get Tensors from loaded model\n",
    "        loaded_x = loaded_graph.get_tensor_by_name('x:0')\n",
    "        loaded_y = loaded_graph.get_tensor_by_name('y:0')\n",
    "        loaded_keep_prob = loaded_graph.get_tensor_by_name('keep_prob:0')\n",
    "        loaded_logits = loaded_graph.get_tensor_by_name('logits:0')\n",
    "        loaded_acc = loaded_graph.get_tensor_by_name('accuracy:0')\n",
    "        \n",
    "        # Get accuracy in batches for memory limitations\n",
    "        test_batch_acc_total = 0\n",
    "        test_batch_count = 0\n",
    "        \n",
    "        for train_feature_batch, train_label_batch in helper.batch_features_labels(test_features, test_labels, batch_size):\n",
    "            test_batch_acc_total += sess.run(\n",
    "                loaded_acc,\n",
    "                feed_dict={loaded_x: train_feature_batch, loaded_y: train_label_batch, loaded_keep_prob: 1.0})\n",
    "            test_batch_count += 1\n",
    "\n",
    "        print('Testing Accuracy: {}\\n'.format(test_batch_acc_total/test_batch_count))\n",
    "\n",
    "        # Print Random Samples\n",
    "        random_test_features, random_test_labels = tuple(zip(*random.sample(list(zip(test_features, test_labels)), n_samples)))\n",
    "        random_test_predictions = sess.run(\n",
    "            tf.nn.top_k(tf.nn.softmax(loaded_logits), top_n_predictions),\n",
    "            feed_dict={loaded_x: random_test_features, loaded_y: random_test_labels, loaded_keep_prob: 1.0})\n",
    "        helper.display_image_predictions(random_test_features, random_test_labels, random_test_predictions)\n",
    "\n",
    "\n",
    "test_model()"
   ]
  },
  {
   "cell_type": "markdown",
   "metadata": {
    "deletable": true,
    "editable": true
   },
   "source": [
    "## Why 50-70% Accuracy?\n",
    "You might be wondering why you can't get an accuracy any higher. First things first, 50% isn't bad for a simple CNN.  Pure guessing would get you 10% accuracy. However, you might notice people are getting scores [well above 70%](http://rodrigob.github.io/are_we_there_yet/build/classification_datasets_results.html#43494641522d3130).  That's because we haven't taught you all there is to know about neural networks. We still need to cover a few more techniques.\n",
    "## Submitting This Project\n",
    "When submitting this project, make sure to run all the cells before saving the notebook.  Save the notebook file as \"dlnd_image_classification.ipynb\" and save it as a HTML file under \"File\" -> \"Download as\".  Include the \"helper.py\" and \"problem_unittests.py\" files in your submission."
   ]
  },
  {
   "cell_type": "code",
   "execution_count": null,
   "metadata": {
    "collapsed": true
   },
   "outputs": [],
   "source": []
  }
 ],
 "metadata": {
  "kernelspec": {
   "display_name": "Python 3",
   "language": "python",
   "name": "python3"
  },
  "language_info": {
   "codemirror_mode": {
    "name": "ipython",
    "version": 3
   },
   "file_extension": ".py",
   "mimetype": "text/x-python",
   "name": "python",
   "nbconvert_exporter": "python",
   "pygments_lexer": "ipython3",
   "version": "3.5.2"
  },
  "widgets": {
   "state": {},
   "version": "1.1.2"
  }
 },
 "nbformat": 4,
 "nbformat_minor": 0
}
